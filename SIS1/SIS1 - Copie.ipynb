{
 "cells": [
  {
   "cell_type": "markdown",
   "metadata": {},
   "source": [
    "# SIS 1"
   ]
  },
  {
   "cell_type": "markdown",
   "metadata": {},
   "source": [
    "# Some theoretical questions"
   ]
  },
  {
   "cell_type": "markdown",
   "metadata": {},
   "source": [
    "## Exercise: Comparing MSE and RMSE\n",
    "\n",
    "Given the following set of true values and predicted values from a regression model:\n",
    "\n",
    "**True values :**  \n",
    "\n",
    "$y_i$ = [500, 300, 800, 400, 6000]\n",
    "\n",
    "**Predicted values :** \n",
    "\n",
    "$\\hat{y_i}$ = [450, 350, 780, 420, 910]"
   ]
  },
  {
   "cell_type": "markdown",
   "metadata": {},
   "source": [
    "1. Calculate on paper the **Mean Squared Error (MSE)** for this set of true and predicted values. \n",
    "\n",
    "   The formula for MSE is:  \n",
    "   MSE = $\\frac{1}{n} \\Sigma_{i=1}^n({y_i}-\\hat{y_i})^2$, where n is the number of data points.\n",
    "\n",
    "2. What does the result quantify ? Explain with your own words.\n",
    "\n",
    "3. What are the disadvantages of this metric ?"
   ]
  },
  {
   "cell_type": "markdown",
   "metadata": {},
   "source": [
    "4. Calculate the **Root Mean Squared Error (RMSE)** for the same values.\n",
    "\n",
    "   The formula for RMSE is:\n",
    "\n",
    "   RMSE = $\\sqrt{\\frac{1}{n} \\Sigma_{i=1}^n({y_i}-\\hat{y_i})^2} = \\sqrt{MSE}$\n",
    "\n",
    "5. Interprete the results.\n",
    "\n",
    "6. What is the difference with MSE ? How does it make it \"better\" ? In your opinion, why is the RMSE generally preferred in some situations over MSE ?"
   ]
  },
  {
   "cell_type": "markdown",
   "metadata": {},
   "source": [
    "## Exercise: Bias Variance decomposition of MSE \n",
    "\n",
    "Given a model $\\hat{f}(X)$ that predicts a value based on some input data, and the true value $Y$, prove that the **Mean Squared Error (MSE)** can be decomposed into two components: **Bias** and **Variance**, i.e. $\\text{MSE} = \\mathbb{E}[(\\hat{Y} - Y)^2] = (\\text{Bias}(\\hat{Y}))^2 + \\text{Var}(\\hat{Y}) $\n",
    "\n",
    "Where:\n",
    "- **Bias** is the difference between the expected prediction and the true value, i.e., $\\text{Bias} = \\mathbb{E}[\\hat{Y}] - Y$.\n",
    "- **Variance** is the expected squared deviation of the predicted value from the expected predicted value, i.e., $\\text{Variance} = \\mathbb{E}[(\\hat{Y} - \\mathbb{E}[\\hat{Y}])^2]$.\n",
    "\n",
    "\n",
    "Hints:\n",
    "- Use the identity : $(\\hat{Y} - Y) = (\\hat{Y} - \\mathbb{E}[\\hat{Y}]) + (\\mathbb{E}[\\hat{Y}] - Y) = (\\hat{Y} - \\mathbb{E}[\\hat{Y}]) + \\text{Bias}(\\hat{Y})$\n",
    "- Start by expanding the expression $(\\hat{Y} - Y)^2$ to isolate the terms involving $\\hat{Y}$ and $Y$."
   ]
  },
  {
   "cell_type": "markdown",
   "metadata": {},
   "source": [
    "# Coding exercise"
   ]
  },
  {
   "cell_type": "code",
   "execution_count": null,
   "metadata": {},
   "outputs": [],
   "source": [
    "import pandas as pd\n",
    "#import numpy as np\n",
    "import matplotlib.pyplot as plt # you can also use seaborn if you prefer\n",
    "\n",
    "from sklearn.ensemble import GradientBoostingRegressor\n",
    "\n",
    "# Import the other necessary library here\n"
   ]
  },
  {
   "cell_type": "code",
   "execution_count": 3,
   "metadata": {},
   "outputs": [],
   "source": [
    "# import the dataset\n",
    "df = pd.read_csv(\"cars.csv\")\n",
    "df = df.fillna(value=float(0)) # replace NaN by float(0) (don't do this automatically in future projects, it can be source of under or overfitting. It should be done precociously)"
   ]
  },
  {
   "cell_type": "markdown",
   "metadata": {},
   "source": [
    "### 1. Analyse your dataset. How many features and columns do we have ?"
   ]
  },
  {
   "cell_type": "code",
   "execution_count": null,
   "metadata": {},
   "outputs": [],
   "source": []
  },
  {
   "cell_type": "markdown",
   "metadata": {},
   "source": [
    "### 2. What categorical variables are ordinal or nominal ? Encode them using OHE and Label encoder from SKLearn. "
   ]
  },
  {
   "cell_type": "code",
   "execution_count": null,
   "metadata": {},
   "outputs": [],
   "source": []
  },
  {
   "cell_type": "markdown",
   "metadata": {},
   "source": [
    "### 3. Plot the distributions of Year, km_driven and mileage data. What could be a problem for convergence ?"
   ]
  },
  {
   "cell_type": "code",
   "execution_count": null,
   "metadata": {},
   "outputs": [],
   "source": []
  },
  {
   "cell_type": "markdown",
   "metadata": {},
   "source": [
    "### 4. Scale those three numerical features, use whatever scaler you want"
   ]
  },
  {
   "cell_type": "code",
   "execution_count": null,
   "metadata": {},
   "outputs": [],
   "source": []
  },
  {
   "cell_type": "markdown",
   "metadata": {},
   "source": [
    "### 5. Select Features and Target Variable\n",
    "Separate X's to y"
   ]
  },
  {
   "cell_type": "code",
   "execution_count": 11,
   "metadata": {},
   "outputs": [],
   "source": [
    "\n"
   ]
  },
  {
   "cell_type": "markdown",
   "metadata": {},
   "source": [
    "### 6. Plot the distribution of the Target variable "
   ]
  },
  {
   "cell_type": "code",
   "execution_count": null,
   "metadata": {},
   "outputs": [],
   "source": []
  },
  {
   "cell_type": "markdown",
   "metadata": {},
   "source": [
    "### 7. Split the Data\n",
    "Split the dataset into training and testing sets. You should then have four dataset, X_train, X_test, y_train and y_test"
   ]
  },
  {
   "cell_type": "code",
   "execution_count": 12,
   "metadata": {},
   "outputs": [],
   "source": []
  },
  {
   "cell_type": "markdown",
   "metadata": {},
   "source": [
    "### 8. Train a Gradient Boosting Model\n",
    "\n",
    "The following code trains an ensemble Model. The class ```GradientBoostingRegressor(*params)```  setup the model and the function ```fit(X_train, y_train)``` trains and fits it.\n",
    "- Use the function ```Predict()``` to predict y, both with your train and test datasets. (have a look at SKlearn documentation to use it)\n",
    "- Compute the train and test Mean Squared Errors.\n"
   ]
  },
  {
   "cell_type": "code",
   "execution_count": null,
   "metadata": {},
   "outputs": [],
   "source": [
    "n = 10 # number of estimators (relative to model complexity)\n",
    "\n",
    "gbr = GradientBoostingRegressor(n_estimators=n, random_state=42, learning_rate=0.9) # dont change those parameters\n",
    "gbr.fit(X_train, y_train)\n",
    "\n",
    "# YOUR CODE GOES HERE"
   ]
  },
  {
   "cell_type": "markdown",
   "metadata": {},
   "source": [
    "### Task 6: Increase the model complexity\n",
    "\n",
    "Train your model in a loop that increase the parameter ```n```. Start at n = 10 to n = 5000 and step = 500 (otherwise your code will run for hours).\n",
    "\n",
    "At each iterations : \n",
    "- reset the model\n",
    "- train the model\n",
    "- predict values using X_train\n",
    "- compute the MSE of training and testing sets.\n",
    "- store the new mse in a list"
   ]
  },
  {
   "cell_type": "code",
   "execution_count": 13,
   "metadata": {},
   "outputs": [],
   "source": []
  },
  {
   "cell_type": "markdown",
   "metadata": {},
   "source": [
    "### Task 7 : In one figure, plot both train and test MSE evolution, with respect to the model complexity (i.e. n) "
   ]
  },
  {
   "cell_type": "code",
   "execution_count": null,
   "metadata": {},
   "outputs": [],
   "source": []
  },
  {
   "cell_type": "markdown",
   "metadata": {},
   "source": [
    "### Task 8 : What can you observe ?"
   ]
  },
  {
   "cell_type": "markdown",
   "metadata": {},
   "source": []
  },
  {
   "cell_type": "markdown",
   "metadata": {},
   "source": [
    "### Task 9 (Bonus) : In your opinion, what could we change in the code to improve our model fit ? "
   ]
  },
  {
   "cell_type": "markdown",
   "metadata": {},
   "source": []
  }
 ],
 "metadata": {
  "kernelspec": {
   "display_name": "base",
   "language": "python",
   "name": "python3"
  },
  "language_info": {
   "codemirror_mode": {
    "name": "ipython",
    "version": 3
   },
   "file_extension": ".py",
   "mimetype": "text/x-python",
   "name": "python",
   "nbconvert_exporter": "python",
   "pygments_lexer": "ipython3",
   "version": "3.11.4"
  }
 },
 "nbformat": 4,
 "nbformat_minor": 2
}
