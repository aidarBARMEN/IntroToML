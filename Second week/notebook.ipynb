{
 "cells": [
  {
   "cell_type": "markdown",
   "metadata": {},
   "source": [
    "## Step 1 : Import libraries & the dataset"
   ]
  },
  {
   "cell_type": "code",
   "execution_count": 2,
   "metadata": {},
   "outputs": [
    {
     "data": {
      "text/html": [
       "<div>\n",
       "<style scoped>\n",
       "    .dataframe tbody tr th:only-of-type {\n",
       "        vertical-align: middle;\n",
       "    }\n",
       "\n",
       "    .dataframe tbody tr th {\n",
       "        vertical-align: top;\n",
       "    }\n",
       "\n",
       "    .dataframe thead th {\n",
       "        text-align: right;\n",
       "    }\n",
       "</style>\n",
       "<table border=\"1\" class=\"dataframe\">\n",
       "  <thead>\n",
       "    <tr style=\"text-align: right;\">\n",
       "      <th></th>\n",
       "      <th>instant</th>\n",
       "      <th>dteday</th>\n",
       "      <th>season</th>\n",
       "      <th>yr</th>\n",
       "      <th>mnth</th>\n",
       "      <th>hr</th>\n",
       "      <th>holiday</th>\n",
       "      <th>weekday</th>\n",
       "      <th>workingday</th>\n",
       "      <th>weathersit</th>\n",
       "      <th>temp</th>\n",
       "      <th>atemp</th>\n",
       "      <th>hum</th>\n",
       "      <th>windspeed</th>\n",
       "      <th>casual</th>\n",
       "      <th>registered</th>\n",
       "      <th>cnt_rental_bike</th>\n",
       "    </tr>\n",
       "  </thead>\n",
       "  <tbody>\n",
       "    <tr>\n",
       "      <th>3685</th>\n",
       "      <td>3686</td>\n",
       "      <td>2011-06-07</td>\n",
       "      <td>2</td>\n",
       "      <td>0</td>\n",
       "      <td>6</td>\n",
       "      <td>11</td>\n",
       "      <td>0</td>\n",
       "      <td>2</td>\n",
       "      <td>1</td>\n",
       "      <td>2</td>\n",
       "      <td>0.76</td>\n",
       "      <td>0.6970</td>\n",
       "      <td>0.52</td>\n",
       "      <td>0.2537</td>\n",
       "      <td>38</td>\n",
       "      <td>113</td>\n",
       "      <td>151</td>\n",
       "    </tr>\n",
       "    <tr>\n",
       "      <th>16523</th>\n",
       "      <td>16524</td>\n",
       "      <td>2012-11-26</td>\n",
       "      <td>4</td>\n",
       "      <td>1</td>\n",
       "      <td>11</td>\n",
       "      <td>5</td>\n",
       "      <td>0</td>\n",
       "      <td>1</td>\n",
       "      <td>1</td>\n",
       "      <td>1</td>\n",
       "      <td>0.22</td>\n",
       "      <td>0.2273</td>\n",
       "      <td>0.69</td>\n",
       "      <td>0.1642</td>\n",
       "      <td>0</td>\n",
       "      <td>41</td>\n",
       "      <td>41</td>\n",
       "    </tr>\n",
       "    <tr>\n",
       "      <th>11301</th>\n",
       "      <td>11302</td>\n",
       "      <td>2012-04-21</td>\n",
       "      <td>2</td>\n",
       "      <td>1</td>\n",
       "      <td>4</td>\n",
       "      <td>2</td>\n",
       "      <td>0</td>\n",
       "      <td>6</td>\n",
       "      <td>0</td>\n",
       "      <td>1</td>\n",
       "      <td>0.52</td>\n",
       "      <td>0.5000</td>\n",
       "      <td>0.77</td>\n",
       "      <td>0.1343</td>\n",
       "      <td>12</td>\n",
       "      <td>69</td>\n",
       "      <td>81</td>\n",
       "    </tr>\n",
       "    <tr>\n",
       "      <th>6704</th>\n",
       "      <td>6705</td>\n",
       "      <td>2011-10-11</td>\n",
       "      <td>4</td>\n",
       "      <td>0</td>\n",
       "      <td>10</td>\n",
       "      <td>22</td>\n",
       "      <td>0</td>\n",
       "      <td>2</td>\n",
       "      <td>1</td>\n",
       "      <td>2</td>\n",
       "      <td>0.56</td>\n",
       "      <td>0.5303</td>\n",
       "      <td>0.83</td>\n",
       "      <td>0.1940</td>\n",
       "      <td>27</td>\n",
       "      <td>120</td>\n",
       "      <td>147</td>\n",
       "    </tr>\n",
       "    <tr>\n",
       "      <th>10654</th>\n",
       "      <td>10655</td>\n",
       "      <td>2012-03-25</td>\n",
       "      <td>2</td>\n",
       "      <td>1</td>\n",
       "      <td>3</td>\n",
       "      <td>1</td>\n",
       "      <td>0</td>\n",
       "      <td>0</td>\n",
       "      <td>0</td>\n",
       "      <td>2</td>\n",
       "      <td>0.42</td>\n",
       "      <td>0.4242</td>\n",
       "      <td>1.00</td>\n",
       "      <td>0.2537</td>\n",
       "      <td>24</td>\n",
       "      <td>65</td>\n",
       "      <td>89</td>\n",
       "    </tr>\n",
       "    <tr>\n",
       "      <th>7967</th>\n",
       "      <td>7968</td>\n",
       "      <td>2011-12-03</td>\n",
       "      <td>4</td>\n",
       "      <td>0</td>\n",
       "      <td>12</td>\n",
       "      <td>15</td>\n",
       "      <td>0</td>\n",
       "      <td>6</td>\n",
       "      <td>0</td>\n",
       "      <td>1</td>\n",
       "      <td>0.38</td>\n",
       "      <td>0.3939</td>\n",
       "      <td>0.46</td>\n",
       "      <td>0.0000</td>\n",
       "      <td>100</td>\n",
       "      <td>237</td>\n",
       "      <td>337</td>\n",
       "    </tr>\n",
       "    <tr>\n",
       "      <th>307</th>\n",
       "      <td>308</td>\n",
       "      <td>2011-01-14</td>\n",
       "      <td>1</td>\n",
       "      <td>0</td>\n",
       "      <td>1</td>\n",
       "      <td>7</td>\n",
       "      <td>0</td>\n",
       "      <td>5</td>\n",
       "      <td>1</td>\n",
       "      <td>1</td>\n",
       "      <td>0.10</td>\n",
       "      <td>0.1212</td>\n",
       "      <td>0.74</td>\n",
       "      <td>0.1642</td>\n",
       "      <td>0</td>\n",
       "      <td>70</td>\n",
       "      <td>70</td>\n",
       "    </tr>\n",
       "  </tbody>\n",
       "</table>\n",
       "</div>"
      ],
      "text/plain": [
       "       instant      dteday  season  yr  mnth  hr  holiday  weekday  \\\n",
       "3685      3686  2011-06-07       2   0     6  11        0        2   \n",
       "16523    16524  2012-11-26       4   1    11   5        0        1   \n",
       "11301    11302  2012-04-21       2   1     4   2        0        6   \n",
       "6704      6705  2011-10-11       4   0    10  22        0        2   \n",
       "10654    10655  2012-03-25       2   1     3   1        0        0   \n",
       "7967      7968  2011-12-03       4   0    12  15        0        6   \n",
       "307        308  2011-01-14       1   0     1   7        0        5   \n",
       "\n",
       "       workingday  weathersit  temp   atemp   hum  windspeed  casual  \\\n",
       "3685            1           2  0.76  0.6970  0.52     0.2537      38   \n",
       "16523           1           1  0.22  0.2273  0.69     0.1642       0   \n",
       "11301           0           1  0.52  0.5000  0.77     0.1343      12   \n",
       "6704            1           2  0.56  0.5303  0.83     0.1940      27   \n",
       "10654           0           2  0.42  0.4242  1.00     0.2537      24   \n",
       "7967            0           1  0.38  0.3939  0.46     0.0000     100   \n",
       "307             1           1  0.10  0.1212  0.74     0.1642       0   \n",
       "\n",
       "       registered  cnt_rental_bike  \n",
       "3685          113              151  \n",
       "16523          41               41  \n",
       "11301          69               81  \n",
       "6704          120              147  \n",
       "10654          65               89  \n",
       "7967          237              337  \n",
       "307            70               70  "
      ]
     },
     "execution_count": 2,
     "metadata": {},
     "output_type": "execute_result"
    }
   ],
   "source": [
    "import pandas as pd\n",
    "\n",
    "\n",
    "# read Bikeshare dataset\n",
    "df_bike = pd.read_csv(\"Bike.csv\").rename(columns={'cnt' : 'cnt_rental_bike'})\n",
    "\n",
    "# sample 7 random rows of the dataframe\n",
    "df_bike.sample(7)"
   ]
  },
  {
   "cell_type": "markdown",
   "metadata": {},
   "source": [
    "## Step 2 : for the column 'weathersit', replace the values such as :  \n",
    "1: 'clear'\\\n",
    "2: 'cloudy'\\\n",
    "3: 'light_rain'\\\n",
    "4: 'heavy_rain'"
   ]
  },
  {
   "cell_type": "code",
   "execution_count": 3,
   "metadata": {},
   "outputs": [
    {
     "name": "stderr",
     "output_type": "stream",
     "text": [
      "C:\\Users\\User\\AppData\\Local\\Temp\\ipykernel_24168\\2128262641.py:1: FutureWarning: A value is trying to be set on a copy of a DataFrame or Series through chained assignment using an inplace method.\n",
      "The behavior will change in pandas 3.0. This inplace method will never work because the intermediate object on which we are setting values always behaves as a copy.\n",
      "\n",
      "For example, when doing 'df[col].method(value, inplace=True)', try using 'df.method({col: value}, inplace=True)' or df[col] = df[col].method(value) instead, to perform the operation inplace on the original object.\n",
      "\n",
      "\n",
      "  df_bike[\"weathersit\"].replace({1,2,3,4},{'clear', 'cloudy', 'light_rain', 'heavy_rain'}, inplace=True)\n"
     ]
    },
    {
     "data": {
      "text/html": [
       "<div>\n",
       "<style scoped>\n",
       "    .dataframe tbody tr th:only-of-type {\n",
       "        vertical-align: middle;\n",
       "    }\n",
       "\n",
       "    .dataframe tbody tr th {\n",
       "        vertical-align: top;\n",
       "    }\n",
       "\n",
       "    .dataframe thead th {\n",
       "        text-align: right;\n",
       "    }\n",
       "</style>\n",
       "<table border=\"1\" class=\"dataframe\">\n",
       "  <thead>\n",
       "    <tr style=\"text-align: right;\">\n",
       "      <th></th>\n",
       "      <th>instant</th>\n",
       "      <th>dteday</th>\n",
       "      <th>season</th>\n",
       "      <th>yr</th>\n",
       "      <th>mnth</th>\n",
       "      <th>hr</th>\n",
       "      <th>holiday</th>\n",
       "      <th>weekday</th>\n",
       "      <th>workingday</th>\n",
       "      <th>weathersit</th>\n",
       "      <th>temp</th>\n",
       "      <th>atemp</th>\n",
       "      <th>hum</th>\n",
       "      <th>windspeed</th>\n",
       "      <th>casual</th>\n",
       "      <th>registered</th>\n",
       "      <th>cnt_rental_bike</th>\n",
       "    </tr>\n",
       "  </thead>\n",
       "  <tbody>\n",
       "    <tr>\n",
       "      <th>11101</th>\n",
       "      <td>11102</td>\n",
       "      <td>2012-04-12</td>\n",
       "      <td>2</td>\n",
       "      <td>1</td>\n",
       "      <td>4</td>\n",
       "      <td>18</td>\n",
       "      <td>0</td>\n",
       "      <td>4</td>\n",
       "      <td>1</td>\n",
       "      <td>clear</td>\n",
       "      <td>0.50</td>\n",
       "      <td>0.4848</td>\n",
       "      <td>0.27</td>\n",
       "      <td>0.3881</td>\n",
       "      <td>63</td>\n",
       "      <td>547</td>\n",
       "      <td>610</td>\n",
       "    </tr>\n",
       "    <tr>\n",
       "      <th>3076</th>\n",
       "      <td>3077</td>\n",
       "      <td>2011-05-13</td>\n",
       "      <td>2</td>\n",
       "      <td>0</td>\n",
       "      <td>5</td>\n",
       "      <td>2</td>\n",
       "      <td>0</td>\n",
       "      <td>5</td>\n",
       "      <td>1</td>\n",
       "      <td>cloudy</td>\n",
       "      <td>0.50</td>\n",
       "      <td>0.4848</td>\n",
       "      <td>0.88</td>\n",
       "      <td>0.1343</td>\n",
       "      <td>3</td>\n",
       "      <td>8</td>\n",
       "      <td>11</td>\n",
       "    </tr>\n",
       "    <tr>\n",
       "      <th>5093</th>\n",
       "      <td>5094</td>\n",
       "      <td>2011-08-05</td>\n",
       "      <td>3</td>\n",
       "      <td>0</td>\n",
       "      <td>8</td>\n",
       "      <td>3</td>\n",
       "      <td>0</td>\n",
       "      <td>5</td>\n",
       "      <td>1</td>\n",
       "      <td>clear</td>\n",
       "      <td>0.64</td>\n",
       "      <td>0.5909</td>\n",
       "      <td>0.78</td>\n",
       "      <td>0.0896</td>\n",
       "      <td>0</td>\n",
       "      <td>6</td>\n",
       "      <td>6</td>\n",
       "    </tr>\n",
       "    <tr>\n",
       "      <th>17347</th>\n",
       "      <td>17348</td>\n",
       "      <td>2012-12-30</td>\n",
       "      <td>1</td>\n",
       "      <td>1</td>\n",
       "      <td>12</td>\n",
       "      <td>16</td>\n",
       "      <td>0</td>\n",
       "      <td>0</td>\n",
       "      <td>0</td>\n",
       "      <td>clear</td>\n",
       "      <td>0.28</td>\n",
       "      <td>0.2424</td>\n",
       "      <td>0.38</td>\n",
       "      <td>0.4179</td>\n",
       "      <td>31</td>\n",
       "      <td>102</td>\n",
       "      <td>133</td>\n",
       "    </tr>\n",
       "    <tr>\n",
       "      <th>12938</th>\n",
       "      <td>12939</td>\n",
       "      <td>2012-06-28</td>\n",
       "      <td>3</td>\n",
       "      <td>1</td>\n",
       "      <td>6</td>\n",
       "      <td>7</td>\n",
       "      <td>0</td>\n",
       "      <td>4</td>\n",
       "      <td>1</td>\n",
       "      <td>clear</td>\n",
       "      <td>0.62</td>\n",
       "      <td>0.6061</td>\n",
       "      <td>0.61</td>\n",
       "      <td>0.1045</td>\n",
       "      <td>24</td>\n",
       "      <td>484</td>\n",
       "      <td>508</td>\n",
       "    </tr>\n",
       "    <tr>\n",
       "      <th>7037</th>\n",
       "      <td>7038</td>\n",
       "      <td>2011-10-25</td>\n",
       "      <td>4</td>\n",
       "      <td>0</td>\n",
       "      <td>10</td>\n",
       "      <td>20</td>\n",
       "      <td>0</td>\n",
       "      <td>2</td>\n",
       "      <td>1</td>\n",
       "      <td>clear</td>\n",
       "      <td>0.46</td>\n",
       "      <td>0.4545</td>\n",
       "      <td>0.67</td>\n",
       "      <td>0.1045</td>\n",
       "      <td>40</td>\n",
       "      <td>208</td>\n",
       "      <td>248</td>\n",
       "    </tr>\n",
       "    <tr>\n",
       "      <th>16119</th>\n",
       "      <td>16120</td>\n",
       "      <td>2012-11-09</td>\n",
       "      <td>4</td>\n",
       "      <td>1</td>\n",
       "      <td>11</td>\n",
       "      <td>9</td>\n",
       "      <td>0</td>\n",
       "      <td>5</td>\n",
       "      <td>1</td>\n",
       "      <td>clear</td>\n",
       "      <td>0.34</td>\n",
       "      <td>0.3030</td>\n",
       "      <td>0.53</td>\n",
       "      <td>0.4179</td>\n",
       "      <td>23</td>\n",
       "      <td>304</td>\n",
       "      <td>327</td>\n",
       "    </tr>\n",
       "  </tbody>\n",
       "</table>\n",
       "</div>"
      ],
      "text/plain": [
       "       instant      dteday  season  yr  mnth  hr  holiday  weekday  \\\n",
       "11101    11102  2012-04-12       2   1     4  18        0        4   \n",
       "3076      3077  2011-05-13       2   0     5   2        0        5   \n",
       "5093      5094  2011-08-05       3   0     8   3        0        5   \n",
       "17347    17348  2012-12-30       1   1    12  16        0        0   \n",
       "12938    12939  2012-06-28       3   1     6   7        0        4   \n",
       "7037      7038  2011-10-25       4   0    10  20        0        2   \n",
       "16119    16120  2012-11-09       4   1    11   9        0        5   \n",
       "\n",
       "       workingday weathersit  temp   atemp   hum  windspeed  casual  \\\n",
       "11101           1      clear  0.50  0.4848  0.27     0.3881      63   \n",
       "3076            1     cloudy  0.50  0.4848  0.88     0.1343       3   \n",
       "5093            1      clear  0.64  0.5909  0.78     0.0896       0   \n",
       "17347           0      clear  0.28  0.2424  0.38     0.4179      31   \n",
       "12938           1      clear  0.62  0.6061  0.61     0.1045      24   \n",
       "7037            1      clear  0.46  0.4545  0.67     0.1045      40   \n",
       "16119           1      clear  0.34  0.3030  0.53     0.4179      23   \n",
       "\n",
       "       registered  cnt_rental_bike  \n",
       "11101         547              610  \n",
       "3076            8               11  \n",
       "5093            6                6  \n",
       "17347         102              133  \n",
       "12938         484              508  \n",
       "7037          208              248  \n",
       "16119         304              327  "
      ]
     },
     "execution_count": 3,
     "metadata": {},
     "output_type": "execute_result"
    }
   ],
   "source": [
    "df_bike[\"weathersit\"].replace({1,2,3,4},{'clear', 'cloudy', 'light_rain', 'heavy_rain'}, inplace=True)\n",
    "df_bike.sample(7)"
   ]
  },
  {
   "cell_type": "markdown",
   "metadata": {},
   "source": [
    "## Step 3 : Using pandas only, explore your dataset"
   ]
  },
  {
   "cell_type": "code",
   "execution_count": 4,
   "metadata": {},
   "outputs": [
    {
     "name": "stdout",
     "output_type": "stream",
     "text": [
      "instant            0\n",
      "dteday             0\n",
      "season             0\n",
      "yr                 0\n",
      "mnth               0\n",
      "hr                 0\n",
      "holiday            0\n",
      "weekday            0\n",
      "workingday         0\n",
      "weathersit         0\n",
      "temp               0\n",
      "atemp              0\n",
      "hum                0\n",
      "windspeed          0\n",
      "casual             0\n",
      "registered         0\n",
      "cnt_rental_bike    0\n",
      "dtype: int64\n"
     ]
    }
   ],
   "source": [
    "#print(df_bike.head())\n",
    "#print(df_bike.shape) #quantity of raw and columnss\n",
    "#print(df_bike.info)\n",
    "#print(df_bike.describe())\n",
    "print(df_bike.isnull().sum())\n",
    "\n"
   ]
  },
  {
   "cell_type": "markdown",
   "metadata": {},
   "source": [
    "## Step 4 : The dataset has several columns related to date/time:\n",
    "\n",
    "Create a new column `datetime` which will store information about both date and time."
   ]
  },
  {
   "cell_type": "code",
   "execution_count": 5,
   "metadata": {},
   "outputs": [
    {
     "name": "stdout",
     "output_type": "stream",
     "text": [
      "       dteday  hr            datetime\n",
      "0  2011-01-01   0 2011-01-01 00:00:00\n",
      "1  2011-01-01   1 2011-01-01 01:00:00\n",
      "2  2011-01-01   2 2011-01-01 02:00:00\n",
      "3  2011-01-01   3 2011-01-01 03:00:00\n",
      "4  2011-01-01   4 2011-01-01 04:00:00\n"
     ]
    }
   ],
   "source": [
    "#creating new row\n",
    "df_bike['datetime'] = df_bike['dteday'] + ' ' + df_bike['hr'].astype(str)\n",
    "\n",
    "#convert to format\n",
    "df_bike['datetime'] = pd.to_datetime(df_bike['datetime'], format='%Y-%m-%d %H')\n",
    "\n",
    "print(df_bike[['dteday', 'hr', 'datetime']].head())\n"
   ]
  },
  {
   "cell_type": "markdown",
   "metadata": {},
   "source": [
    "## Step 5 : Vizualize the seasonality of rental bike"
   ]
  },
  {
   "cell_type": "code",
   "execution_count": 6,
   "metadata": {},
   "outputs": [
    {
     "data": {
      "text/plain": [
       "<Axes: title={'center': 'Seasonality of Rental Bikes'}, xlabel='Season', ylabel='Average Rentals'>"
      ]
     },
     "execution_count": 6,
     "metadata": {},
     "output_type": "execute_result"
    },
    {
     "data": {
      "image/png": "[encoded data removed]",
      "text/plain": [
       "<Figure size 640x480 with 1 Axes>"
      ]
     },
     "metadata": {},
     "output_type": "display_data"
    }
   ],
   "source": [
    "# Группировка данных по сезонам и построение графика\n",
    "df_bike.groupby('season')['cnt_rental_bike'].mean().plot(\n",
    "    kind='bar',\n",
    "    title='Seasonality of Rental Bikes',\n",
    "    color='red',\n",
    "    ylabel='Average Rentals',\n",
    "    xlabel='Season',\n",
    "    rot=0\n",
    ")\n"
   ]
  },
  {
   "cell_type": "markdown",
   "metadata": {},
   "source": [
    "## Step 6 : What's the datatype of 'Wheathersit'"
   ]
  },
  {
   "cell_type": "code",
   "execution_count": 7,
   "metadata": {},
   "outputs": [
    {
     "name": "stdout",
     "output_type": "stream",
     "text": [
      "Index(['instant', 'dteday', 'season', 'yr', 'mnth', 'hr', 'holiday', 'weekday',\n",
      "       'workingday', 'weathersit', 'temp', 'atemp', 'hum', 'windspeed',\n",
      "       'casual', 'registered', 'cnt_rental_bike', 'datetime'],\n",
      "      dtype='object')\n",
      "object\n",
      "instant                     int64\n",
      "dteday                     object\n",
      "season                      int64\n",
      "yr                          int64\n",
      "mnth                        int64\n",
      "hr                          int64\n",
      "holiday                     int64\n",
      "weekday                     int64\n",
      "workingday                  int64\n",
      "weathersit                 object\n",
      "temp                      float64\n",
      "atemp                     float64\n",
      "hum                       float64\n",
      "windspeed                 float64\n",
      "casual                      int64\n",
      "registered                  int64\n",
      "cnt_rental_bike             int64\n",
      "datetime           datetime64[ns]\n",
      "dtype: object\n"
     ]
    }
   ],
   "source": [
    "print(df_bike.columns)\n",
    "print(df_bike['weathersit'].dtype)\n",
    "print(df_bike.dtypes)\n"
   ]
  },
  {
   "cell_type": "markdown",
   "metadata": {},
   "source": [
    "## Step 7 : Count the values of Wheathersit and plot its distribution"
   ]
  },
  {
   "cell_type": "code",
   "execution_count": 8,
   "metadata": {},
   "outputs": [
    {
     "data": {
      "text/plain": [
       "<Axes: title={'center': 'distibution pf weather'}, ylabel='Count'>"
      ]
     },
     "execution_count": 8,
     "metadata": {},
     "output_type": "execute_result"
    },
    {
     "data": {
      "image/png": "[encoded data removed]",
      "text/plain": [
       "<Figure size 640x480 with 1 Axes>"
      ]
     },
     "metadata": {},
     "output_type": "display_data"
    }
   ],
   "source": [
    "#df_bike['weathersit'].value_counts()\n",
    "df_bike['weathersit'].value_counts().plot(\n",
    "    kind ='pie',\n",
    "    title='distibution pf weather',\n",
    "    color = 'blue',\n",
    "    ylabel='Count',\n",
    "    xlabel='Type of the weather'\n",
    ")"
   ]
  },
  {
   "cell_type": "markdown",
   "metadata": {},
   "source": [
    "## Step 8 : What's the number of $K$ in this column."
   ]
  },
  {
   "cell_type": "code",
   "execution_count": 9,
   "metadata": {},
   "outputs": [
    {
     "name": "stdout",
     "output_type": "stream",
     "text": [
      "Quantity of 'clear': 11413\n"
     ]
    }
   ],
   "source": [
    "# quantity'clear' column 'weathersit'\n",
    "count_clear = (df_bike['weathersit'] == 'clear').sum()\n",
    "print(f\"Quantity of 'clear': {count_clear}\")\n"
   ]
  },
  {
   "cell_type": "markdown",
   "metadata": {},
   "source": [
    "## Step 9 : Implement your own One-Hot-Encoding algorithm. Encode weathersit column"
   ]
  },
  {
   "cell_type": "code",
   "execution_count": 10,
   "metadata": {},
   "outputs": [
    {
     "name": "stdout",
     "output_type": "stream",
     "text": [
      "   instant      dteday  season  yr  mnth  hr  holiday  weekday  workingday  \\\n",
      "0        1  2011-01-01       1   0     1   0        0        6           0   \n",
      "1        2  2011-01-01       1   0     1   1        0        6           0   \n",
      "2        3  2011-01-01       1   0     1   2        0        6           0   \n",
      "3        4  2011-01-01       1   0     1   3        0        6           0   \n",
      "4        5  2011-01-01       1   0     1   4        0        6           0   \n",
      "\n",
      "   temp  ...  windspeed  casual  registered  cnt_rental_bike  \\\n",
      "0  0.24  ...        0.0       3          13               16   \n",
      "1  0.22  ...        0.0       8          32               40   \n",
      "2  0.22  ...        0.0       5          27               32   \n",
      "3  0.24  ...        0.0       3          10               13   \n",
      "4  0.24  ...        0.0       0           1                1   \n",
      "\n",
      "             datetime  weather_clear weather_cloudy  weather_heavy_rain  \\\n",
      "0 2011-01-01 00:00:00              1              0                   0   \n",
      "1 2011-01-01 01:00:00              1              0                   0   \n",
      "2 2011-01-01 02:00:00              1              0                   0   \n",
      "3 2011-01-01 03:00:00              1              0                   0   \n",
      "4 2011-01-01 04:00:00              1              0                   0   \n",
      "\n",
      "   weather_light_rain  weathersit  \n",
      "0                   0       clear  \n",
      "1                   0       clear  \n",
      "2                   0       clear  \n",
      "3                   0       clear  \n",
      "4                   0       clear  \n",
      "\n",
      "[5 rows x 22 columns]\n",
      "Index(['instant', 'dteday', 'season', 'yr', 'mnth', 'hr', 'holiday', 'weekday',\n",
      "       'workingday', 'temp', 'atemp', 'hum', 'windspeed', 'casual',\n",
      "       'registered', 'cnt_rental_bike', 'datetime', 'weather_clear',\n",
      "       'weather_cloudy', 'weather_heavy_rain', 'weather_light_rain',\n",
      "       'weathersit'],\n",
      "      dtype='object')\n"
     ]
    }
   ],
   "source": [
    "#copy orig DataFrame\n",
    "original_df = df_bike.copy()\n",
    "\n",
    "#One-Hot Encoding\n",
    "df_bike = pd.get_dummies(df_bike, columns=['weathersit'], prefix='weather', drop_first=False, dtype=int)\n",
    "\n",
    "# return original column 'weathersit'\n",
    "df_bike['weathersit'] = original_df['weathersit']\n",
    "\n",
    "# Проверяем результат\n",
    "print(df_bike.head())\n",
    "print(df_bike.columns)\n"
   ]
  },
  {
   "cell_type": "markdown",
   "metadata": {},
   "source": [
    "## Step 10 : Use scikit-learn OHE encoder for the same column"
   ]
  },
  {
   "cell_type": "code",
   "execution_count": 11,
   "metadata": {},
   "outputs": [
    {
     "name": "stdout",
     "output_type": "stream",
     "text": [
      "   instant      dteday  season  yr  mnth  hr  holiday  weekday  workingday  \\\n",
      "0        1  2011-01-01       1   0     1   0        0        6           0   \n",
      "1        2  2011-01-01       1   0     1   1        0        6           0   \n",
      "2        3  2011-01-01       1   0     1   2        0        6           0   \n",
      "3        4  2011-01-01       1   0     1   3        0        6           0   \n",
      "4        5  2011-01-01       1   0     1   4        0        6           0   \n",
      "\n",
      "   temp  ...            datetime  weather_clear  weather_cloudy  \\\n",
      "0  0.24  ... 2011-01-01 00:00:00              1               0   \n",
      "1  0.22  ... 2011-01-01 01:00:00              1               0   \n",
      "2  0.22  ... 2011-01-01 02:00:00              1               0   \n",
      "3  0.24  ... 2011-01-01 03:00:00              1               0   \n",
      "4  0.24  ... 2011-01-01 04:00:00              1               0   \n",
      "\n",
      "   weather_heavy_rain  weather_light_rain  weathersit clear  cloudy  \\\n",
      "0                   0                   0       clear   1.0     0.0   \n",
      "1                   0                   0       clear   1.0     0.0   \n",
      "2                   0                   0       clear   1.0     0.0   \n",
      "3                   0                   0       clear   1.0     0.0   \n",
      "4                   0                   0       clear   1.0     0.0   \n",
      "\n",
      "   heavy_rain  light_rain  \n",
      "0         0.0         0.0  \n",
      "1         0.0         0.0  \n",
      "2         0.0         0.0  \n",
      "3         0.0         0.0  \n",
      "4         0.0         0.0  \n",
      "\n",
      "[5 rows x 26 columns]\n"
     ]
    }
   ],
   "source": [
    "from sklearn.preprocessing import OneHotEncoder\n",
    "encoder = OneHotEncoder(sparse_output=False)\n",
    "\n",
    "encoded_columns = encoder.fit_transform(df_bike[['weathersit']])\n",
    "categories = encoder.categories_[0]\n",
    "df_encoded = pd.DataFrame(encoded_columns, columns=categories)\n",
    "df_bike = pd.concat([df_bike, df_encoded], axis=1)\n",
    "print(df_bike.head())\n"
   ]
  },
  {
   "cell_type": "markdown",
   "metadata": {},
   "source": [
    "## Step 11 : Compare your encoded columns with the SKLearn ones"
   ]
  },
  {
   "cell_type": "code",
   "execution_count": 12,
   "metadata": {},
   "outputs": [
    {
     "name": "stdout",
     "output_type": "stream",
     "text": [
      "   weather_clear  weather_cloudy  weather_heavy_rain  weather_light_rain  \\\n",
      "0              1               0                   0                   0   \n",
      "1              1               0                   0                   0   \n",
      "2              1               0                   0                   0   \n",
      "3              1               0                   0                   0   \n",
      "4              1               0                   0                   0   \n",
      "\n",
      "   clear  cloudy  heavy_rain  light_rain  \n",
      "0    1.0     0.0         0.0         0.0  \n",
      "1    1.0     0.0         0.0         0.0  \n",
      "2    1.0     0.0         0.0         0.0  \n",
      "3    1.0     0.0         0.0         0.0  \n",
      "4    1.0     0.0         0.0         0.0  \n",
      "identical or not? False\n"
     ]
    }
   ],
   "source": [
    "pandas_encoded = df_bike.filter(like='weather_')\n",
    "comparison = pd.concat([pandas_encoded.reset_index(drop=True), df_encoded.reset_index(drop=True)], axis=1)\n",
    "print(comparison.head())\n",
    "is_equal = pandas_encoded.equals(df_encoded)\n",
    "print(f\"identical or not? {is_equal}\")\n",
    "\n"
   ]
  },
  {
   "cell_type": "markdown",
   "metadata": {},
   "source": [
    "## Step 12 : Modify your algorithm to drop one column while encoding"
   ]
  },
  {
   "cell_type": "code",
   "execution_count": 13,
   "metadata": {},
   "outputs": [
    {
     "name": "stdout",
     "output_type": "stream",
     "text": [
      "   instant      dteday  season  yr  mnth  hr  holiday  weekday  workingday  \\\n",
      "0        1  2011-01-01       1   0     1   0        0        6           0   \n",
      "1        2  2011-01-01       1   0     1   1        0        6           0   \n",
      "2        3  2011-01-01       1   0     1   2        0        6           0   \n",
      "3        4  2011-01-01       1   0     1   3        0        6           0   \n",
      "4        5  2011-01-01       1   0     1   4        0        6           0   \n",
      "\n",
      "   temp  ...  weather_heavy_rain  weather_light_rain  clear  cloudy  \\\n",
      "0  0.24  ...                   0                   0    1.0     0.0   \n",
      "1  0.22  ...                   0                   0    1.0     0.0   \n",
      "2  0.22  ...                   0                   0    1.0     0.0   \n",
      "3  0.24  ...                   0                   0    1.0     0.0   \n",
      "4  0.24  ...                   0                   0    1.0     0.0   \n",
      "\n",
      "   heavy_rain  light_rain weather_cloudy  weather_heavy_rain  \\\n",
      "0         0.0         0.0              0                   0   \n",
      "1         0.0         0.0              0                   0   \n",
      "2         0.0         0.0              0                   0   \n",
      "3         0.0         0.0              0                   0   \n",
      "4         0.0         0.0              0                   0   \n",
      "\n",
      "   weather_light_rain  weathersit  \n",
      "0                   0       clear  \n",
      "1                   0       clear  \n",
      "2                   0       clear  \n",
      "3                   0       clear  \n",
      "4                   0       clear  \n",
      "\n",
      "[5 rows x 29 columns]\n",
      "Index(['instant', 'dteday', 'season', 'yr', 'mnth', 'hr', 'holiday', 'weekday',\n",
      "       'workingday', 'temp', 'atemp', 'hum', 'windspeed', 'casual',\n",
      "       'registered', 'cnt_rental_bike', 'datetime', 'weather_clear',\n",
      "       'weather_cloudy', 'weather_heavy_rain', 'weather_light_rain', 'clear',\n",
      "       'cloudy', 'heavy_rain', 'light_rain', 'weather_cloudy',\n",
      "       'weather_heavy_rain', 'weather_light_rain', 'weathersit'],\n",
      "      dtype='object')\n"
     ]
    }
   ],
   "source": [
    "original_df = df_bike.copy()\n",
    "df_bike = pd.get_dummies(df_bike, columns=['weathersit'], prefix='weather', drop_first=True, dtype=int)\n",
    "\n",
    "df_bike['weathersit'] = original_df['weathersit']\n",
    "print(df_bike.head())\n",
    "print(df_bike.columns)\n"
   ]
  },
  {
   "cell_type": "markdown",
   "metadata": {},
   "source": [
    "## Step 13 : What are advantages and disadvantages of such encoding of a categorical varable? Does the answer depend on whether it is nominal or ordinal?"
   ]
  },
  {
   "cell_type": "code",
   "execution_count": null,
   "metadata": {},
   "outputs": [],
   "source": [
    "One hot encoding is a very suitable for nominal data and also binary encoding doesnt need scaling because we only have 0 and 1\n",
    "but we have Increasing the dimensionality of the data cause it creates n-1 columns and it can lead to errors if we have a alot of data\n",
    "\n"
   ]
  },
  {
   "cell_type": "markdown",
   "metadata": {},
   "source": [
    "## Step 14 : What can be said about linear dependence of the columns produced by one-hot-encoding? Consider two cases: with and without dropping."
   ]
  },
  {
   "cell_type": "code",
   "execution_count": null,
   "metadata": {},
   "outputs": [],
   "source": [
    "Without dropping: columns are linearly dependent.\n",
    "With dropping: linear dependence is removed."
   ]
  },
  {
   "cell_type": "markdown",
   "metadata": {},
   "source": [
    "\n",
    "## Step 15 : Repeat the steps 7 to 9, for label encoding"
   ]
  },
  {
   "cell_type": "code",
   "execution_count": 14,
   "metadata": {},
   "outputs": [
    {
     "name": "stdout",
     "output_type": "stream",
     "text": [
      "weathersit_encoded\n",
      "0    11413\n",
      "1     4544\n",
      "3     1419\n",
      "2        3\n",
      "Name: count, dtype: int64\n"
     ]
    }
   ],
   "source": [
    "from sklearn.preprocessing import LabelEncoder\n",
    "label_encoder = LabelEncoder()\n",
    "df_bike['weathersit_encoded'] = label_encoder.fit_transform(df_bike['weathersit'])\n",
    "print(df_bike['weathersit_encoded'].value_counts())\n"
   ]
  },
  {
   "cell_type": "markdown",
   "metadata": {},
   "source": [
    "## Step 16 : Normalize some feature to a range [0, 1]"
   ]
  },
  {
   "cell_type": "code",
   "execution_count": 15,
   "metadata": {},
   "outputs": [
    {
     "name": "stdout",
     "output_type": "stream",
     "text": [
      "   temp  temp_normalized\n",
      "0  0.24         0.224490\n",
      "1  0.22         0.204082\n",
      "2  0.22         0.204082\n",
      "3  0.24         0.224490\n",
      "4  0.24         0.224490\n"
     ]
    }
   ],
   "source": [
    "from sklearn.preprocessing import MinMaxScaler\n",
    "\n",
    "scaler = MinMaxScaler()\n",
    "df_bike['temp_normalized'] = scaler.fit_transform(df_bike[['temp']])\n",
    "\n",
    "print(df_bike[['temp', 'temp_normalized']].head())\n"
   ]
  },
  {
   "cell_type": "markdown",
   "metadata": {},
   "source": [
    "## Step 17 : Standardize the same Feature(s) using standardization"
   ]
  },
  {
   "cell_type": "code",
   "execution_count": 16,
   "metadata": {},
   "outputs": [
    {
     "name": "stdout",
     "output_type": "stream",
     "text": [
      "   temp  temp_standardized\n",
      "0  0.24          -1.334648\n",
      "1  0.22          -1.438516\n",
      "2  0.22          -1.438516\n",
      "3  0.24          -1.334648\n",
      "4  0.24          -1.334648\n"
     ]
    }
   ],
   "source": [
    "from sklearn.preprocessing import StandardScaler\n",
    "\n",
    "scaler = StandardScaler()\n",
    "df_bike['temp_standardized'] = scaler.fit_transform(df_bike[['temp']])\n",
    "\n",
    "print(df_bike[['temp', 'temp_standardized']].head())\n"
   ]
  },
  {
   "cell_type": "markdown",
   "metadata": {},
   "source": [
    "## Step 18 : Explain the difference in resulting scales "
   ]
  },
  {
   "cell_type": "code",
   "execution_count": null,
   "metadata": {},
   "outputs": [],
   "source": [
    "Normalization scales data to a range [0, 1]\n",
    "Example: [10, 20, 30] → [0, 0.5, 1]. It’s useful for models like KNN or SVM, sensitive to feature magnitudes.\n",
    "\n",
    "Standardization centers data to mean 0 and standard deviation 1.\n",
    "Example: [10, 20, 30] → [-1.22, 0, 1.22]. It’s ideal for algorithms like Linear Regression or PCA, assuming normally distributed data."
   ]
  }
 ],
 "metadata": {
  "kernelspec": {
   "display_name": "Python 3",
   "language": "python",
   "name": "python3"
  },
  "language_info": {
   "codemirror_mode": {
    "name": "ipython",
    "version": 3
   },
   "file_extension": ".py",
   "mimetype": "text/x-python",
   "name": "python",
   "nbconvert_exporter": "python",
   "pygments_lexer": "ipython3",
   "version": "3.10.11"
  }
 },
 "nbformat": 4,
 "nbformat_minor": 2
}
